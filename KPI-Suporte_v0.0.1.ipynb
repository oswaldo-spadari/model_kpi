{
 "cells": [
  {
   "cell_type": "code",
   "execution_count": 133,
   "id": "66d991f4",
   "metadata": {
    "scrolled": true
   },
   "outputs": [],
   "source": [
    "import pandas as pd\n",
    "import matplotlib.pyplot as plt\n",
    "\n",
    "\n",
    "#use o encoding por causa do tipo de padrão que vem fonte: https://www.roelpeters.be/unicodedecodeerror-utf-8-codec-cant-decode-byte-in-position/\n",
    "df_chamados = pd.read_csv(r'C://Users/OSO/Documents/KPIS Suporte/chamados.csv', encoding = 'ISO-8859-1', sep=';')\n",
    "#limpando df chamados\n",
    "df_chamados = df_chamados.drop(['.', 'ÚLTIMO COMENTÁRIO', 'DIAS SEM AÇÃO', 'PRODUTO', 'RESUMO'], axis=1)\n",
    "\n",
    "#criando chamados resolvidos sem 'aberto em'\n",
    "df_chamados_resolvidos = df_chamados.drop('ABERTO EM', axis=1)\n",
    "\n",
    "#remover linhas sem a data de resolução '-'\n",
    "df_chamados_resolvidos = df_chamados_resolvidos[(df_chamados_resolvidos['RESOLVIDO EM'] != '-')]\n",
    "\n",
    "#converter valor da tabela para data (atualmente esta como object)\n",
    "df_chamados['ABERTO EM'] = pd.to_datetime(df_chamados['ABERTO EM'], format = '%d/%m/%Y')\n",
    "\n",
    "df_chamados_resolvidos['RESOLVIDO EM'] = pd.to_datetime(df_chamados_resolvidos['RESOLVIDO EM'], format = '%d/%m/%Y')\n",
    "\n",
    "#adicionar colunas de ano, mes e dia\n",
    "df_chamados[\"Ano\"] = df_chamados['ABERTO EM'].dt.year\n",
    "df_chamados['Mes'] = df_chamados['ABERTO EM'].dt.month\n",
    "df_chamados['Dia'] = df_chamados['ABERTO EM'].dt.day\n",
    "df_chamados_resolvidos[\"Ano\"] = df_chamados_resolvidos['RESOLVIDO EM'].dt.year\n",
    "df_chamados_resolvidos['Mes'] = df_chamados_resolvidos['RESOLVIDO EM'].dt.month\n",
    "df_chamados_resolvidos['Dia'] = df_chamados_resolvidos['RESOLVIDO EM'].dt.day\n",
    "\n",
    "#df_chamados.info()\n",
    "#df_chamados_resolvidos.info()"
   ]
  },
  {
   "cell_type": "code",
   "execution_count": 134,
   "id": "018b8a96",
   "metadata": {},
   "outputs": [],
   "source": [
    "#FORMAS de FILTRAR\n",
    "# df_filtro2022 = df_chamados[\"Ano\"] == 2022\n",
    "# df_chamados2022 = df_chamados[df_filtro2022]\n",
    "# display(df_chamados2022)\n",
    "\n",
    "df_2022 = df_chamados[df_chamados.Ano.eq(2022)]\n",
    "#display(df2022.head())\n",
    "#df2022.info()\n",
    "\n",
    "#df só de 2022 de resolvidos\n",
    "df_resolv_2022 = df_chamados_resolvidos[df_chamados_resolvidos.Ano.eq(2022)]"
   ]
  },
  {
   "cell_type": "code",
   "execution_count": 220,
   "id": "27506177",
   "metadata": {},
   "outputs": [
    {
     "name": "stdout",
     "output_type": "stream",
     "text": [
      "398\n"
     ]
    }
   ],
   "source": [
    "df_chamados['CHAMADO'].count()\n",
    "df_chamados_resolvidos['CHAMADO'].count()\n",
    "tot_backlog = df_chamados['CHAMADO'].count() - df_chamados_resolvidos['CHAMADO'].count()\n",
    "print(tot_backlog)"
   ]
  },
  {
   "cell_type": "code",
   "execution_count": null,
   "id": "560da986",
   "metadata": {},
   "outputs": [],
   "source": []
  },
  {
   "cell_type": "code",
   "execution_count": 215,
   "id": "1cbcf04a",
   "metadata": {},
   "outputs": [
    {
     "data": {
      "image/png": "[encoded data removed]",
      "text/plain": [
       "<Figure size 432x288 with 1 Axes>"
      ]
     },
     "metadata": {
      "needs_background": "light"
     },
     "output_type": "display_data"
    }
   ],
   "source": [
    "lst_2022 = list(df_2022['Mes'].value_counts().sort_index())\n",
    "\n",
    "lst_resolv_2022 = list(df_resolv_2022['Mes'].value_counts().sort_index())\n",
    "\n",
    "#para colunas agrupadas tem que ser array\n",
    "x = np.array([1, 2, 3, 4, 5, 6, 7, 8, 9, 10, 11, 12]) #cria o array com os meses do eixo x\n",
    "eixo_x = ['jan', 'fev', 'mar', 'abr', 'mai', 'jun', 'jul', 'ago', 'set', 'out', 'nov', 'dez'] #para etiquetar o eixo x\n",
    "width_custom  = 0.4 #largura da barra\n",
    "\n",
    "fig, ax = plt.subplots()\n",
    "barra_abertos = ax.bar(x[:len(lst_2022)] - width_custom/2, lst_2022, width = width_custom, color = 'royalblue', label=\"Abertos\" )\n",
    "barra_fechados = ax.bar(x[:len(lst_2022)] + width_custom/2, lst_resolv_2022, width= width_custom, color='darkblue', label=\"Fechados\")\n",
    "\n",
    "#plt.bar(x[:len(lst_2022)] - width_custom, lst_2022, width = width_custom, color = 'blue', label = 'Abertos')\n",
    "#plt.bar(x[:len(lst_2022)], lst_resolv_2022, width = width_custom, color = 'cyan', label = 'Fechados' )\n",
    "plt.legend()\n",
    "plt.title(\"Abertos x Fechados x Backlog\")\n",
    "plt.xlabel('Meses')\n",
    "plt.xticks(x[:len(lst_2022)], eixox[:len(lst_2022)])\n",
    "\n",
    "ax.bar_label(barra_abertos) #colocar rotulo na barra\n",
    "ax.bar_label(barra_fechados)#colocar rotulo na barra\n",
    "fig.tight_layout()\n",
    "plt.show()"
   ]
  },
  {
   "cell_type": "code",
   "execution_count": null,
   "id": "898ec606",
   "metadata": {},
   "outputs": [],
   "source": []
  }
 ],
 "metadata": {
  "kernelspec": {
   "display_name": "Python 3 (ipykernel)",
   "language": "python",
   "name": "python3"
  },
  "language_info": {
   "codemirror_mode": {
    "name": "ipython",
    "version": 3
   },
   "file_extension": ".py",
   "mimetype": "text/x-python",
   "name": "python",
   "nbconvert_exporter": "python",
   "pygments_lexer": "ipython3",
   "version": "3.9.7"
  }
 },
 "nbformat": 4,
 "nbformat_minor": 5
}
